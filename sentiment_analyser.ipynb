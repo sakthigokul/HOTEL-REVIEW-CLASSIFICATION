{
 "cells": [
  {
   "cell_type": "code",
   "execution_count": 22,
   "metadata": {},
   "outputs": [],
   "source": [
    "import pandas as pd\n",
    "import pickle\n",
    "import nltk\n",
    "from nltk.tokenize.toktok import ToktokTokenizer\n",
    "from nltk.sentiment.vader import SentimentIntensityAnalyzer\n",
    "from nltk.corpus import stopwords\n",
    "from nltk.stem import WordNetLemmatizer\n",
    "import text_preprocessor as tp\n",
    "from cleantext import clean\n",
    "import re\n"
   ]
  },
  {
   "cell_type": "code",
   "execution_count": 23,
   "metadata": {},
   "outputs": [],
   "source": [
    "sia = SentimentIntensityAnalyzer()\n",
    "wordnet=WordNetLemmatizer()"
   ]
  },
  {
   "cell_type": "code",
   "execution_count": 24,
   "metadata": {},
   "outputs": [],
   "source": [
    "# import classifier\n",
    "with open('linear_classifier.pickle', 'rb') as data:\n",
    "    model = pickle.load(data)\n",
    "    \n",
    "# import tfidf\n",
    "with open('tfidf.pickle', 'rb') as data:\n",
    "     tfidf = pickle.load(data)"
   ]
  },
  {
   "cell_type": "code",
   "execution_count": 25,
   "metadata": {},
   "outputs": [],
   "source": [
    "sentiment_map = {'Negative':-1, 'Positive':1, 'Neutral': 0}"
   ]
  },
  {
   "cell_type": "code",
   "execution_count": 26,
   "metadata": {},
   "outputs": [],
   "source": [
    "def clean_text(text):\n",
    "    print(\"Number of words in Review:\", len(text.split()))\n",
    "    text=re.sub('[^A-za-z0-9]',' ',text)\n",
    "    text=text.lower()\n",
    "    text=text.split(' ')\n",
    "    text = [wordnet.lemmatize(word) for word in text if word not in (stopwords.words('english'))]\n",
    "    text = ' '.join(text)\n",
    "    \n",
    "    return text"
   ]
  },
  {
   "cell_type": "code",
   "execution_count": 27,
   "metadata": {},
   "outputs": [],
   "source": [
    "def get_sentiment(text):\n",
    "    \"\"\"\n",
    "    Predicts the sentiment of text using the Multinomial Naive Bayes Model\n",
    "    \"\"\"\n",
    "    sentiment_id = model.predict(tfidf.transform([text]))\n",
    "    return get_name(sentiment_id)"
   ]
  },
  {
   "cell_type": "code",
   "execution_count": 28,
   "metadata": {},
   "outputs": [],
   "source": [
    "def get_name(sentiment_id):\n",
    "    \"\"\"\n",
    "    Gets sentiment name from sentiment_map using sentiment_id\n",
    "    \"\"\"\n",
    "    for sentiment, id_ in sentiment_map.items():\n",
    "        if id_ == sentiment_id:\n",
    "            return sentiment"
   ]
  },
  {
   "cell_type": "code",
   "execution_count": 29,
   "metadata": {},
   "outputs": [],
   "source": [
    "def get_noun(text):\n",
    "    \"\"\"\n",
    "    Finds noun of the text\n",
    "    \"\"\"\n",
    "    tokenizer = ToktokTokenizer()\n",
    "    tokens = tokenizer.tokenize(text)    \n",
    "    pos_tags = nltk.pos_tag(tokens)\n",
    "    nouns = []\n",
    "    for word, tag in pos_tags:\n",
    "        if tag == \"NN\" or tag == \"NNP\" or tag == \"NNS\":\n",
    "            nouns.append(word)\n",
    "    return nouns\n",
    "    "
   ]
  },
  {
   "cell_type": "code",
   "execution_count": 30,
   "metadata": {},
   "outputs": [],
   "source": [
    "def top_pos_word(text):\n",
    "    \"\"\"\n",
    "    Finds top positive word using nltk vader library\n",
    "    \"\"\"\n",
    "    pos_polarity = dict()\n",
    "    for word in nltk.word_tokenize(text):\n",
    "        pos_score = sia.polarity_scores(word)['pos']\n",
    "        if word not in pos_polarity:\n",
    "            pos_polarity[word] = pos_score\n",
    "        else:\n",
    "            pos_polarity[word] += pos_score\n",
    "    top_word = max(pos_polarity, key=pos_polarity.get)\n",
    "    return top_word"
   ]
  },
  {
   "cell_type": "code",
   "execution_count": 31,
   "metadata": {},
   "outputs": [],
   "source": [
    "def top_neg_word(text):\n",
    "    \"\"\"\n",
    "    Finds top negative word using nltk vader library\n",
    "    \"\"\"\n",
    "    neg_polarity = dict()\n",
    "    for word in nltk.word_tokenize(text):\n",
    "        neg_score = sia.polarity_scores(word)['neg']\n",
    "        if word not in neg_polarity:\n",
    "            neg_polarity[word] = neg_score\n",
    "        else:\n",
    "            neg_polarity[word] += neg_score\n",
    "    top_word = max(neg_polarity, key=neg_polarity.get)\n",
    "    return top_word"
   ]
  },
  {
   "cell_type": "code",
   "execution_count": 32,
   "metadata": {},
   "outputs": [],
   "source": [
    "def sentiment_analysis(text):\n",
    "    \"\"\"\n",
    "    Finds the sentiment of text, prints positive or negative word and \n",
    "    prints the causing words of positivity or negativity\n",
    "    \"\"\"\n",
    "    text = clean_text(text)\n",
    "    sentiment = get_sentiment(text)\n",
    "    print(f'Sentiment: {sentiment}')\n",
    "    if sentiment == 'Positive':\n",
    "        nouns = get_noun(text)\n",
    "        print(f'Positive word: {top_pos_word(text)}')\n",
    "        print(f'Cause of positivity: {nouns}')\n",
    "    elif sentiment == 'Negative':\n",
    "        nouns = get_noun(text)\n",
    "        print(f'Negative word: {top_neg_word(text)}')\n",
    "        print(f'Cause of negativity: {nouns}')"
   ]
  },
  {
   "cell_type": "markdown",
   "metadata": {},
   "source": [
    "### Test the model with some sample input texts"
   ]
  },
  {
   "cell_type": "code",
   "execution_count": 33,
   "metadata": {},
   "outputs": [],
   "source": [
    "text1 = \"You don’t expect a jacuzzi when you paying less then 20$ a night this hotel was amazing within its budget firstly I was glad seeing their COVID precaution as I am myself a doctor secondly the staff was really helpful although the rooms aren’t huge but good enough for two people with a space for you heavy luggage and other stuff also to mention the food was really amazing it was totally like home made food I wish them all the luck and hope they will keep up the good work\""
   ]
  },
  {
   "cell_type": "code",
   "execution_count": 34,
   "metadata": {},
   "outputs": [
    {
     "name": "stdout",
     "output_type": "stream",
     "text": [
      "Number of words in Review: 91\n",
      "Sentiment: Positive\n",
      "Positive word: amazing\n",
      "Cause of positivity: ['jacuzzi', 'night', 'hotel', 'budget', 'precaution', 'doctor', 'staff', 'room', 'people', 'space', 'luggage', 'stuff', 'mention', 'food', 'home', 'food', 'luck', 'hope', 'work']\n"
     ]
    }
   ],
   "source": [
    "sentiment_analysis(text1)"
   ]
  },
  {
   "cell_type": "code",
   "execution_count": 35,
   "metadata": {},
   "outputs": [],
   "source": [
    "text2 = \"Location is nice for all travelers and Staff is also good and very welcoming staff. Hotel singh continental is a good option for stay for everyone and my experience was very good. Hotel facilities are good. Overall experience was good. This is a well furnished hotel with a well behaved and active staff. Overall a nice stay. It was comfortable stay with hotel . Food was very tasty. This hotel experience was amazing. It's a really nice hotel. I will definately come again and stay.\""
   ]
  },
  {
   "cell_type": "code",
   "execution_count": 36,
   "metadata": {},
   "outputs": [
    {
     "name": "stdout",
     "output_type": "stream",
     "text": [
      "Number of words in Review: 85\n",
      "Sentiment: Positive\n",
      "Positive word: good\n",
      "Cause of positivity: ['location', 'traveler', 'staff', 'staff', 'hotel', 'singh', 'option', 'everyone', 'experience', 'hotel', 'facility', 'experience', 'hotel', 'staff', 'stay', 'hotel', 'food', 'hotel', 'experience', 'hotel', 'stay']\n"
     ]
    }
   ],
   "source": [
    "sentiment_analysis(text2)"
   ]
  },
  {
   "cell_type": "code",
   "execution_count": 37,
   "metadata": {},
   "outputs": [],
   "source": [
    "text3 = \"Quality Hospitality personal behaviour of all management staff was truly good and Everyone took good care of us.. we are very happy and wish to stay back any time in future thank you..buffet was extremely delicious.... special thanx to MR. UDAY . They are very helpful and awesome... I hope they get succes in hospitality industry... I wish them all the best... Will suggest others to visit here Breakfast has limited items...\""
   ]
  },
  {
   "cell_type": "code",
   "execution_count": 38,
   "metadata": {},
   "outputs": [
    {
     "name": "stdout",
     "output_type": "stream",
     "text": [
      "Number of words in Review: 72\n",
      "Sentiment: Positive\n",
      "Positive word: good\n",
      "Cause of positivity: ['quality', 'hospitality', 'behaviour', 'management', 'staff', 'everyone', 'care', 'wish', 'time', 'thank', 'buffet', 'thanx', 'mr', 'hope', 'succes', 'hospitality', 'industry', 'others', 'breakfast', 'item']\n"
     ]
    }
   ],
   "source": [
    "sentiment_analysis(text3)"
   ]
  },
  {
   "cell_type": "code",
   "execution_count": 39,
   "metadata": {},
   "outputs": [],
   "source": [
    "text4 = \"The condition of the rooms were very bad. Bed sheets, linens were dirty.Toilet was horrible. Ambience was very bad.Could not stay a single night but paid Rs, 1900/ advance whice was not repaid. Overall a horrible experience for two hours.\""
   ]
  },
  {
   "cell_type": "code",
   "execution_count": 40,
   "metadata": {},
   "outputs": [
    {
     "name": "stdout",
     "output_type": "stream",
     "text": [
      "Number of words in Review: 40\n",
      "Sentiment: Negative\n",
      "Negative word: bad\n",
      "Cause of negativity: ['condition', 'room', 'sheet', 'linen', 'toilet', 'ambience', 'night', 'r', 'advance', 'whice', 'experience', 'hour']\n"
     ]
    }
   ],
   "source": [
    "sentiment_analysis(text4)"
   ]
  },
  {
   "cell_type": "code",
   "execution_count": 41,
   "metadata": {},
   "outputs": [],
   "source": [
    "text6 = \"My product was damaged at the 7th day and I initiated the replacement option, the reverse pick up was scheduled however no delivery information is available still. Itz being 3 days now, when you go to boat website the tracking status button does not works on the website and even you cannot reach an representative via call. I don't know if I am gonna receive the product back or not!\""
   ]
  },
  {
   "cell_type": "code",
   "execution_count": 42,
   "metadata": {},
   "outputs": [
    {
     "name": "stdout",
     "output_type": "stream",
     "text": [
      "Number of words in Review: 70\n",
      "Sentiment: Negative\n",
      "Negative word: damaged\n",
      "Cause of negativity: ['product', 'day', 'replacement', 'option', 'reverse', 'pick', 'delivery', 'information', 'day', 'boat', 'status', 'button', 'work', 'reach', 'call', 'gonna', 'product']\n"
     ]
    }
   ],
   "source": [
    "sentiment_analysis(text6)"
   ]
  },
  {
   "cell_type": "code",
   "execution_count": null,
   "metadata": {},
   "outputs": [],
   "source": []
  }
 ],
 "metadata": {
  "kernelspec": {
   "display_name": "Python 3",
   "language": "python",
   "name": "python3"
  },
  "language_info": {
   "codemirror_mode": {
    "name": "ipython",
    "version": 3
   },
   "file_extension": ".py",
   "mimetype": "text/x-python",
   "name": "python",
   "nbconvert_exporter": "python",
   "pygments_lexer": "ipython3",
   "version": "3.8.3"
  }
 },
 "nbformat": 4,
 "nbformat_minor": 2
}
