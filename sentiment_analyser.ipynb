{
 "cells": [
  {
   "cell_type": "code",
   "execution_count": 1,
   "metadata": {},
   "outputs": [
    {
     "name": "stderr",
     "output_type": "stream",
     "text": [
      "Since the GPL-licensed package `unidecode` is not installed, using Python's `unicodedata` package which yields worse results.\n"
     ]
    }
   ],
   "source": [
    "import pandas as pd\n",
    "import pickle\n",
    "import nltk\n",
    "from nltk.tokenize.toktok import ToktokTokenizer\n",
    "from nltk.sentiment.vader import SentimentIntensityAnalyzer\n",
    "\n",
    "import text_preprocessor as tp\n",
    "from cleantext import clean"
   ]
  },
  {
   "cell_type": "code",
   "execution_count": 3,
   "metadata": {},
   "outputs": [],
   "source": [
    "sia = SentimentIntensityAnalyzer()"
   ]
  },
  {
   "cell_type": "code",
   "execution_count": 4,
   "metadata": {},
   "outputs": [],
   "source": [
    "# import classifier\n",
    "with open('linear_classifier.pickle', 'rb') as data:\n",
    "    model = pickle.load(data)\n",
    "    \n",
    "# import tfidf\n",
    "with open('tfidf.pickle', 'rb') as data:\n",
    "     tfidf = pickle.load(data)"
   ]
  },
  {
   "cell_type": "code",
   "execution_count": 6,
   "metadata": {},
   "outputs": [],
   "source": [
    "sentiment_map = {'Negative':0, 'Positive':1}"
   ]
  },
  {
   "cell_type": "code",
   "execution_count": 7,
   "metadata": {},
   "outputs": [],
   "source": [
    "def get_sentiment(text):\n",
    "    \"\"\"\n",
    "    Predicts the sentiment of text using the Multinomial Naive Bayes Model\n",
    "    \"\"\"\n",
    "    sentiment_id = model.predict(tfidf.transform([text]))\n",
    "    return get_name(sentiment_id)"
   ]
  },
  {
   "cell_type": "code",
   "execution_count": 8,
   "metadata": {},
   "outputs": [],
   "source": [
    "def get_name(sentiment_id):\n",
    "    \"\"\"\n",
    "    Gets sentiment name from sentiment_map using sentiment_id\n",
    "    \"\"\"\n",
    "    for sentiment, id_ in sentiment_map.items():\n",
    "        if id_ == sentiment_id:\n",
    "            return sentiment"
   ]
  },
  {
   "cell_type": "code",
   "execution_count": 9,
   "metadata": {},
   "outputs": [],
   "source": [
    "def get_noun(text):\n",
    "    \"\"\"\n",
    "    Finds noun of the text\n",
    "    \"\"\"\n",
    "    tokenizer = ToktokTokenizer()\n",
    "    tokens = tokenizer.tokenize(text)    \n",
    "    pos_tags = nltk.pos_tag(tokens)\n",
    "    nouns = []\n",
    "    for word, tag in pos_tags:\n",
    "        if tag == \"NN\" or tag == \"NNP\" or tag == \"NNS\":\n",
    "            nouns.append(word)\n",
    "    return nouns\n",
    "    "
   ]
  },
  {
   "cell_type": "code",
   "execution_count": 10,
   "metadata": {},
   "outputs": [],
   "source": [
    "def top_pos_word(text):\n",
    "    \"\"\"\n",
    "    Finds top positive word using nltk vader library\n",
    "    \"\"\"\n",
    "    pos_polarity = dict()\n",
    "    for word in nltk.word_tokenize(text):\n",
    "        pos_score = sia.polarity_scores(word)['pos']\n",
    "        if word not in pos_polarity:\n",
    "            pos_polarity[word] = pos_score\n",
    "        else:\n",
    "            pos_polarity[word] += pos_score\n",
    "    top_word = max(pos_polarity, key=pos_polarity.get)\n",
    "    return top_word"
   ]
  },
  {
   "cell_type": "code",
   "execution_count": 11,
   "metadata": {},
   "outputs": [],
   "source": [
    "def top_neg_word(text):\n",
    "    \"\"\"\n",
    "    Finds top negative word using nltk vader library\n",
    "    \"\"\"\n",
    "    neg_polarity = dict()\n",
    "    for word in nltk.word_tokenize(text):\n",
    "        neg_score = sia.polarity_scores(word)['neg']\n",
    "        if word not in neg_polarity:\n",
    "            neg_polarity[word] = neg_score\n",
    "        else:\n",
    "            neg_polarity[word] += neg_score\n",
    "    top_word = max(neg_polarity, key=neg_polarity.get)\n",
    "    return top_word"
   ]
  },
  {
   "cell_type": "code",
   "execution_count": 12,
   "metadata": {},
   "outputs": [],
   "source": [
    "def sentiment_analysis(text):\n",
    "    \"\"\"\n",
    "    Finds the sentiment of text, prints positive or negative word and \n",
    "    prints the causing words of positivity or negativity\n",
    "    \"\"\"\n",
    "    text = clean(text)\n",
    "    sentiment = get_sentiment(text)\n",
    "    print(f'Sentiment: {sentiment}')\n",
    "    if sentiment == 'Positive':\n",
    "        nouns = get_noun(text)\n",
    "        print(f'Positive word: {top_pos_word(text)}')\n",
    "        print(f'Cause of positivity: {nouns}')\n",
    "    elif sentiment == 'Negative':\n",
    "        nouns = get_noun(text)\n",
    "        print(f'Negative word: {top_neg_word(text)}')\n",
    "        print(f'Cause of negativity: {nouns}')"
   ]
  },
  {
   "cell_type": "markdown",
   "metadata": {},
   "source": [
    "### Test the model with some sample input texts"
   ]
  },
  {
   "cell_type": "code",
   "execution_count": 13,
   "metadata": {},
   "outputs": [],
   "source": [
    "text1 = \"You don’t expect a jacuzzi when you paying less then 20$ a night this hotel was amazing within its budget firstly I was glad seeing their COVID precaution as I am myself a doctor secondly the staff was really helpful although the rooms aren’t huge but good enough for two people with a space for you heavy luggage and other stuff also to mention the food was really amazing it was totally like home made food I wish them all the luck and hope they will keep up the good work\""
   ]
  },
  {
   "cell_type": "code",
   "execution_count": 14,
   "metadata": {},
   "outputs": [
    {
     "name": "stdout",
     "output_type": "stream",
     "text": [
      "Sentiment: Positive\n",
      "Positive word: amazing\n",
      "Cause of positivity: ['jacuzzi', 'night', 'hotel', 'budget', 'i', 'precaution', 'i', 'doctor', 'staff', 'rooms', 'people', 'space', 'luggage', 'stuff', 'food', 'home', 'food', 'i', 'luck', 'hope', 'work']\n"
     ]
    }
   ],
   "source": [
    "sentiment_analysis(text1)"
   ]
  },
  {
   "cell_type": "code",
   "execution_count": 15,
   "metadata": {},
   "outputs": [],
   "source": [
    "text2 = \"Location is nice for all travelers and Staff is also good and very welcoming staff. Hotel singh continental is a good option for stay for everyone and my experience was very good. Hotel facilities are good. Overall experience was good. This is a well furnished hotel with a well behaved and active staff. Overall a nice stay. It was comfortable stay with hotel . Food was very tasty. This hotel experience was amazing. It's a really nice hotel. I will definately come again and stay.\""
   ]
  },
  {
   "cell_type": "code",
   "execution_count": 16,
   "metadata": {},
   "outputs": [
    {
     "name": "stdout",
     "output_type": "stream",
     "text": [
      "Sentiment: Positive\n",
      "Positive word: good\n",
      "Cause of positivity: ['location', 'travelers', 'staff', 'hotel', 'singh', 'continental', 'option', 'stay', 'everyone', 'experience', 'hotel', 'facilities', 'experience', 'good.', 'hotel', 'well', 'staff.', 'stay.', 'stay', 'hotel', 'food', 'hotel', 'experience', 'hotel.', 'i']\n"
     ]
    }
   ],
   "source": [
    "sentiment_analysis(text2)"
   ]
  },
  {
   "cell_type": "code",
   "execution_count": 17,
   "metadata": {},
   "outputs": [],
   "source": [
    "text3 = \"Quality Hospitality personal behaviour of all management staff was truly good and Everyone took good care of us.. we are very happy and wish to stay back any time in future thank you..buffet was extremely delicious.... special thanx to MR. UDAY . They are very helpful and awesome... I hope they get succes in hospitality industry... I wish them all the best... Will suggest others to visit here Breakfast has limited items...\""
   ]
  },
  {
   "cell_type": "code",
   "execution_count": 18,
   "metadata": {},
   "outputs": [
    {
     "name": "stdout",
     "output_type": "stream",
     "text": [
      "Sentiment: Positive\n",
      "Positive word: good\n",
      "Cause of positivity: ['quality', 'hospitality', 'behaviour', 'management', 'staff', 'everyone', 'care', 'time', 'thank', '....', 'thanx', 'succes', 'hospitality', 'industry', 'others', 'breakfast', 'items']\n"
     ]
    }
   ],
   "source": [
    "sentiment_analysis(text3)"
   ]
  },
  {
   "cell_type": "code",
   "execution_count": 19,
   "metadata": {},
   "outputs": [],
   "source": [
    "text4 = \"The condition of the rooms were very bad. Bed sheets, linens were dirty.Toilet was horrible. Ambience was very bad.Could not stay a single night but paid Rs, 1900/ advance whice was not repaid. Overall a horrible experience for two hours.\""
   ]
  },
  {
   "cell_type": "code",
   "execution_count": 20,
   "metadata": {},
   "outputs": [
    {
     "name": "stdout",
     "output_type": "stream",
     "text": [
      "Sentiment: Positive\n",
      "Positive word: the\n",
      "Cause of positivity: ['condition', 'rooms', 'bed', 'sheets', 'linens', 'dirty.toilet', 'ambience', 'night', 'rs', 'advance', 'whice', 'experience', 'hours']\n"
     ]
    }
   ],
   "source": [
    "sentiment_analysis(text4)"
   ]
  },
  {
   "cell_type": "code",
   "execution_count": 21,
   "metadata": {},
   "outputs": [],
   "source": [
    "text6 = \"My product was damaged at the 7th day and I initiated the replacement option, the reverse pick up was scheduled however no delivery information is available still. Itz being 3 days now, when you go to boat website the tracking status button does not works on the website and even you cannot reach an representative via call. I don't know if I am gonna receive the product back or not!\""
   ]
  },
  {
   "cell_type": "code",
   "execution_count": 22,
   "metadata": {},
   "outputs": [
    {
     "name": "stdout",
     "output_type": "stream",
     "text": [
      "Sentiment: Negative\n",
      "Negative word: damaged\n",
      "Cause of negativity: ['product', 'day', 'i', 'replacement', 'option', 'reverse', 'pick', 'delivery', 'information', 'still.', 'itz', 'days', 'tracking', 'status', 'button', 'website', 'call.', 'don', 't', 'product']\n"
     ]
    }
   ],
   "source": [
    "sentiment_analysis(text6)"
   ]
  },
  {
   "cell_type": "code",
   "execution_count": null,
   "metadata": {},
   "outputs": [],
   "source": []
  }
 ],
 "metadata": {
  "kernelspec": {
   "display_name": "Python 3",
   "language": "python",
   "name": "python3"
  },
  "language_info": {
   "codemirror_mode": {
    "name": "ipython",
    "version": 3
   },
   "file_extension": ".py",
   "mimetype": "text/x-python",
   "name": "python",
   "nbconvert_exporter": "python",
   "pygments_lexer": "ipython3",
   "version": "3.7.10"
  }
 },
 "nbformat": 4,
 "nbformat_minor": 2
}
